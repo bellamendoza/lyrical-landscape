{
 "cells": [
  {
   "cell_type": "code",
   "execution_count": 8,
   "metadata": {},
   "outputs": [],
   "source": [
    "import pandas as pd"
   ]
  },
  {
   "cell_type": "code",
   "execution_count": 9,
   "metadata": {},
   "outputs": [],
   "source": [
    "data = pd.read_csv('data.csv')"
   ]
  },
  {
   "cell_type": "code",
   "execution_count": 10,
   "metadata": {},
   "outputs": [
    {
     "data": {
      "text/html": [
       "<div>\n",
       "<style scoped>\n",
       "    .dataframe tbody tr th:only-of-type {\n",
       "        vertical-align: middle;\n",
       "    }\n",
       "\n",
       "    .dataframe tbody tr th {\n",
       "        vertical-align: top;\n",
       "    }\n",
       "\n",
       "    .dataframe thead th {\n",
       "        text-align: right;\n",
       "    }\n",
       "</style>\n",
       "<table border=\"1\" class=\"dataframe\">\n",
       "  <thead>\n",
       "    <tr style=\"text-align: right;\">\n",
       "      <th></th>\n",
       "      <th>Unnamed: 0</th>\n",
       "      <th>Song</th>\n",
       "      <th>Artist</th>\n",
       "      <th>lyrics</th>\n",
       "      <th>Duration (seconds)</th>\n",
       "      <th>Artist Followers</th>\n",
       "    </tr>\n",
       "  </thead>\n",
       "  <tbody>\n",
       "    <tr>\n",
       "      <th>0</th>\n",
       "      <td>0</td>\n",
       "      <td>Ella Baila Sola</td>\n",
       "      <td>Eslabon Armado</td>\n",
       "      <td>Compa, ¿qué le parece esa morra?\\nLa que anda ...</td>\n",
       "      <td>165.671</td>\n",
       "      <td>6081474.0</td>\n",
       "    </tr>\n",
       "    <tr>\n",
       "      <th>1</th>\n",
       "      <td>1</td>\n",
       "      <td>These Words</td>\n",
       "      <td>Natasha Bedingfield</td>\n",
       "      <td>My heart\\nThese words are my own\\n(Uh, yeah, u...</td>\n",
       "      <td>136.580</td>\n",
       "      <td>41112.0</td>\n",
       "    </tr>\n",
       "    <tr>\n",
       "      <th>2</th>\n",
       "      <td>2</td>\n",
       "      <td>Guantanamera (feat. Ms. Lauryn Hill, Celia Cru...</td>\n",
       "      <td>Wyclef Jean</td>\n",
       "      <td>none</td>\n",
       "      <td>270.493</td>\n",
       "      <td>385395.0</td>\n",
       "    </tr>\n",
       "    <tr>\n",
       "      <th>3</th>\n",
       "      <td>3</td>\n",
       "      <td>Vanish Into You</td>\n",
       "      <td>Lady Gaga</td>\n",
       "      <td>Saw your face and mine\\nIn a picture by our be...</td>\n",
       "      <td>244.915</td>\n",
       "      <td>35745647.0</td>\n",
       "    </tr>\n",
       "    <tr>\n",
       "      <th>4</th>\n",
       "      <td>4</td>\n",
       "      <td>Volver</td>\n",
       "      <td>Carmen Ferre</td>\n",
       "      <td>none</td>\n",
       "      <td>149.655</td>\n",
       "      <td>5988.0</td>\n",
       "    </tr>\n",
       "  </tbody>\n",
       "</table>\n",
       "</div>"
      ],
      "text/plain": [
       "   Unnamed: 0                                               Song  \\\n",
       "0           0                                    Ella Baila Sola   \n",
       "1           1                                        These Words   \n",
       "2           2  Guantanamera (feat. Ms. Lauryn Hill, Celia Cru...   \n",
       "3           3                                    Vanish Into You   \n",
       "4           4                                             Volver   \n",
       "\n",
       "                Artist                                             lyrics  \\\n",
       "0       Eslabon Armado  Compa, ¿qué le parece esa morra?\\nLa que anda ...   \n",
       "1  Natasha Bedingfield  My heart\\nThese words are my own\\n(Uh, yeah, u...   \n",
       "2          Wyclef Jean                                               none   \n",
       "3            Lady Gaga  Saw your face and mine\\nIn a picture by our be...   \n",
       "4         Carmen Ferre                                               none   \n",
       "\n",
       "   Duration (seconds)  Artist Followers  \n",
       "0             165.671         6081474.0  \n",
       "1             136.580           41112.0  \n",
       "2             270.493          385395.0  \n",
       "3             244.915        35745647.0  \n",
       "4             149.655            5988.0  "
      ]
     },
     "execution_count": 10,
     "metadata": {},
     "output_type": "execute_result"
    }
   ],
   "source": [
    "data.head()"
   ]
  },
  {
   "cell_type": "code",
   "execution_count": null,
   "metadata": {},
   "outputs": [],
   "source": []
  }
 ],
 "metadata": {
  "kernelspec": {
   "display_name": "Python 3.9.6 64-bit",
   "language": "python",
   "name": "python3"
  },
  "language_info": {
   "codemirror_mode": {
    "name": "ipython",
    "version": 3
   },
   "file_extension": ".py",
   "mimetype": "text/x-python",
   "name": "python",
   "nbconvert_exporter": "python",
   "pygments_lexer": "ipython3",
   "version": "3.9.6"
  },
  "orig_nbformat": 4,
  "vscode": {
   "interpreter": {
    "hash": "31f2aee4e71d21fbe5cf8b01ff0e069b9275f58929596ceb00d14d90e3e16cd6"
   }
  }
 },
 "nbformat": 4,
 "nbformat_minor": 2
}
